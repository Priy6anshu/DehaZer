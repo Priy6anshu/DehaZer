{
  "nbformat": 4,
  "nbformat_minor": 0,
  "metadata": {
    "colab": {
      "provenance": []
    },
    "kernelspec": {
      "name": "python3",
      "display_name": "Python 3"
    },
    "language_info": {
      "name": "python"
    }
  },
  "cells": [
    {
      "cell_type": "code",
      "execution_count": null,
      "metadata": {
        "colab": {
          "base_uri": "https://localhost:8080/"
        },
        "id": "b-2cn-tPRNG-",
        "outputId": "dc7f54a4-edc2-40d5-b438-193a3d402b76"
      },
      "outputs": [
        {
          "output_type": "stream",
          "name": "stdout",
          "text": [
            "Requirement already satisfied: opencv-python in /usr/local/lib/python3.10/dist-packages (4.8.0.76)\n",
            "Requirement already satisfied: numpy>=1.21.2 in /usr/local/lib/python3.10/dist-packages (from opencv-python) (1.23.5)\n"
          ]
        }
      ],
      "source": [
        "!pip3 install opencv-python"
      ]
    },
    {
      "cell_type": "code",
      "source": [
        "import cv2\n",
        "import os\n",
        "\n",
        "class VideoFrameExtractor:\n",
        "    def __init__(self, video_path, frame_rate, output_folder):\n",
        "        self.video_path = video_path\n",
        "        self.frame_rate = frame_rate\n",
        "        self.vidcap = cv2.VideoCapture(video_path)\n",
        "        self.count = 1\n",
        "        self.output_folder = output_folder\n",
        "\n",
        "        # Create the output folder if it doesn't exist\n",
        "        os.makedirs(self.output_folder, exist_ok=True)\n",
        "\n",
        "    def get_frame(self):\n",
        "        sec = 0\n",
        "        while True:\n",
        "            self.vidcap.set(cv2.CAP_PROP_POS_MSEC, sec * 1000)\n",
        "            has_frames, image = self.vidcap.read()\n",
        "            if has_frames:\n",
        "                image_path = os.path.join(self.output_folder, f\"image{self.count}.jpg\")\n",
        "                cv2.imwrite(image_path, image)  # save frame as JPG file\n",
        "                self.count += 1\n",
        "            else:\n",
        "                break\n",
        "            sec += self.frame_rate\n",
        "            sec = round(sec, 2)\n",
        "\n",
        "    def release(self):\n",
        "        self.vidcap.release()"
      ],
      "metadata": {
        "id": "DLs7iCq8Ubvv"
      },
      "execution_count": 4,
      "outputs": []
    },
    {
      "cell_type": "code",
      "source": [
        "video_path = '/content/30_seconds_digital_clock_display_of_seven_segments.mp4'\n",
        "frame_rate = 2\n",
        "output_folder = '/content/StoredImages'\n",
        "video_extractor = VideoFrameExtractor(video_path, frame_rate, output_folder)\n",
        "video_extractor.get_frame()\n",
        "video_extractor.release()"
      ],
      "metadata": {
        "id": "connufBbXHNI"
      },
      "execution_count": 5,
      "outputs": []
    }
  ]
}