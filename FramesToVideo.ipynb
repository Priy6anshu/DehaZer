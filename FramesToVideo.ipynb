{
  "nbformat": 4,
  "nbformat_minor": 0,
  "metadata": {
    "colab": {
      "provenance": []
    },
    "kernelspec": {
      "name": "python3",
      "display_name": "Python 3"
    },
    "language_info": {
      "name": "python"
    }
  },
  "cells": [
    {
      "cell_type": "code",
      "execution_count": 1,
      "metadata": {
        "id": "tqgo_m_sVWLW"
      },
      "outputs": [],
      "source": [
        "import cv2\n",
        "import numpy as np\n",
        "import os\n",
        "from os.path import isfile, join"
      ]
    },
    {
      "cell_type": "code",
      "source": [
        "class ImageSequenceToVideo:\n",
        "    def __init__(self, input_path, output_path, frame_rate):\n",
        "        self.input_path = input_path\n",
        "        self.output_path = output_path\n",
        "        self.frame_rate = frame_rate\n",
        "        self.frame_array = []\n",
        "\n",
        "    def read_images(self):\n",
        "        files = [f for f in os.listdir(self.input_path) if os.path.isfile(os.path.join(self.input_path, f))]\n",
        "        files.sort(key=lambda x: int(x[5:-4]))\n",
        "        for i in range(len(files)):\n",
        "            filename = os.path.join(self.input_path, files[i])\n",
        "            img = cv2.imread(filename)\n",
        "            height, width, layers = img.shape\n",
        "            size = (width, height)\n",
        "            self.frame_array.append(img)\n",
        "\n",
        "    def create_video(self):\n",
        "        out = cv2.VideoWriter(self.output_path, cv2.VideoWriter_fourcc(*'DIVX'), self.frame_rate, self.size)\n",
        "        for i in range(len(self.frame_array)):\n",
        "            out.write(self.frame_array[i])\n",
        "        out.release()\n",
        "\n",
        "    def convert_images_to_video(self):\n",
        "        self.read_images()\n",
        "        if len(self.frame_array) == 0:\n",
        "            print(\"No images found in the input directory.\")\n",
        "            return\n",
        "        self.size = self.frame_array[0].shape[1], self.frame_array[0].shape[0]\n",
        "        self.create_video()"
      ],
      "metadata": {
        "id": "kXu_dmj5agJy"
      },
      "execution_count": null,
      "outputs": []
    },
    {
      "cell_type": "code",
      "source": [
        "input_path = '/content/StoredImages'\n",
        "output_path = 'video_temp.mp4'\n",
        "frame_rate = 2\n",
        "\n",
        "image_to_video_converter = ImageSequenceToVideo(input_path, output_path, frame_rate)\n",
        "image_to_video_converter.convert_images_to_video()"
      ],
      "metadata": {
        "id": "u6GHKgOrahp5"
      },
      "execution_count": null,
      "outputs": []
    }
  ]
}